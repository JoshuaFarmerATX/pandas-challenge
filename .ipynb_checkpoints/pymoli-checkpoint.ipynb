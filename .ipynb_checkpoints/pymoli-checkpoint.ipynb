{
 "cells": [
  {
   "cell_type": "code",
   "execution_count": 1,
   "metadata": {},
   "outputs": [],
   "source": [
    "#Dependencies and Setup\n",
    "import pandas as pd\n",
    "import os"
   ]
  },
  {
   "cell_type": "code",
   "execution_count": 2,
   "metadata": {},
   "outputs": [],
   "source": [
    "#File to load\n",
    "path = os.path.join(\"purchase_data.csv\")\n",
    "\n",
    "#Read file to load and stores it into a Dataframe\n",
    "df = pd.read_csv(path).set_index([\"Purchase ID\"])"
   ]
  },
  {
   "cell_type": "markdown",
   "metadata": {},
   "source": [
    "<h1>Player Count</h1)"
   ]
  },
  {
   "cell_type": "code",
   "execution_count": 3,
   "metadata": {},
   "outputs": [
    {
     "data": {
      "text/html": [
       "<div>\n",
       "<style scoped>\n",
       "    .dataframe tbody tr th:only-of-type {\n",
       "        vertical-align: middle;\n",
       "    }\n",
       "\n",
       "    .dataframe tbody tr th {\n",
       "        vertical-align: top;\n",
       "    }\n",
       "\n",
       "    .dataframe thead th {\n",
       "        text-align: right;\n",
       "    }\n",
       "</style>\n",
       "<table border=\"1\" class=\"dataframe\">\n",
       "  <thead>\n",
       "    <tr style=\"text-align: right;\">\n",
       "      <th></th>\n",
       "    </tr>\n",
       "    <tr>\n",
       "      <th>Player Count</th>\n",
       "    </tr>\n",
       "  </thead>\n",
       "  <tbody>\n",
       "    <tr>\n",
       "      <th>576</th>\n",
       "    </tr>\n",
       "  </tbody>\n",
       "</table>\n",
       "</div>"
      ],
      "text/plain": [
       "Empty DataFrame\n",
       "Columns: []\n",
       "Index: [576]"
      ]
     },
     "execution_count": 3,
     "metadata": {},
     "output_type": "execute_result"
    }
   ],
   "source": [
    "pd.DataFrame({'Player Count': [len(df[\"SN\"].unique())]}).set_index([\"Player Count\"])"
   ]
  },
  {
   "cell_type": "markdown",
   "metadata": {},
   "source": [
    "<h1>Purchasing Analysis (Total)</h1>\n",
    "\n",
    "<ul>\n",
    "    <li>Run Basic calculations to obtain number of unique items, average prices, etc.</li>\n",
    "    <li>Create a summary data frame to hold the results</li>\n",
    "    <li>Optional: Give the displayed data cleaner formatting</li>\n",
    "    <li>Display the summary data frame</li>\n",
    "</ul>"
   ]
  },
  {
   "cell_type": "code",
   "execution_count": 4,
   "metadata": {},
   "outputs": [
    {
     "data": {
      "text/html": [
       "<div>\n",
       "<style scoped>\n",
       "    .dataframe tbody tr th:only-of-type {\n",
       "        vertical-align: middle;\n",
       "    }\n",
       "\n",
       "    .dataframe tbody tr th {\n",
       "        vertical-align: top;\n",
       "    }\n",
       "\n",
       "    .dataframe thead th {\n",
       "        text-align: right;\n",
       "    }\n",
       "</style>\n",
       "<table border=\"1\" class=\"dataframe\">\n",
       "  <thead>\n",
       "    <tr style=\"text-align: right;\">\n",
       "      <th></th>\n",
       "      <th></th>\n",
       "      <th></th>\n",
       "      <th></th>\n",
       "    </tr>\n",
       "    <tr>\n",
       "      <th>Number of Unique Items</th>\n",
       "      <th>Average Price</th>\n",
       "      <th>Number of Purchases</th>\n",
       "      <th>Total Revenue</th>\n",
       "    </tr>\n",
       "  </thead>\n",
       "  <tbody>\n",
       "    <tr>\n",
       "      <th>179</th>\n",
       "      <th>$3.05</th>\n",
       "      <th>780</th>\n",
       "      <th>$2,379.77</th>\n",
       "    </tr>\n",
       "  </tbody>\n",
       "</table>\n",
       "</div>"
      ],
      "text/plain": [
       "Empty DataFrame\n",
       "Columns: []\n",
       "Index: [(179, $3.05, 780, $2,379.77)]"
      ]
     },
     "execution_count": 4,
     "metadata": {},
     "output_type": "execute_result"
    }
   ],
   "source": [
    "purchasing_analysis_df = pd.DataFrame({\n",
    "    'Number of Unique Items': [len(df[\"Item Name\"].unique())], \n",
    "    'Average Price': ['${:,.2f}'.format(df[\"Price\"].sum() / len(df[\"Price\"]))],\n",
    "    'Number of Purchases': [df[\"SN\"].count()],\n",
    "    'Total Revenue': ['${:,.2f}'.format(df[\"Price\"].sum())]\n",
    "})\n",
    "purchasing_analysis_df.set_index(['Number of Unique Items', 'Average Price', 'Number of Purchases', 'Total Revenue'])"
   ]
  },
  {
   "cell_type": "markdown",
   "metadata": {},
   "source": [
    "<h1>Gender Demographics</h1>\n",
    "<ul>\n",
    "    <li>Percentage and Count of Male Players</li>\n",
    "    <li>Percentage and Count of Female Players</li>\n",
    "    <li>Percentage and Count of Other / Non-Disclosed</li>\n",
    "</ul>"
   ]
  },
  {
   "cell_type": "code",
   "execution_count": 5,
   "metadata": {},
   "outputs": [
    {
     "data": {
      "text/html": [
       "<div>\n",
       "<style scoped>\n",
       "    .dataframe tbody tr th:only-of-type {\n",
       "        vertical-align: middle;\n",
       "    }\n",
       "\n",
       "    .dataframe tbody tr th {\n",
       "        vertical-align: top;\n",
       "    }\n",
       "\n",
       "    .dataframe thead th {\n",
       "        text-align: right;\n",
       "    }\n",
       "</style>\n",
       "<table border=\"1\" class=\"dataframe\">\n",
       "  <thead>\n",
       "    <tr style=\"text-align: right;\">\n",
       "      <th></th>\n",
       "      <th>Total Count</th>\n",
       "      <th>Percentage of Players</th>\n",
       "    </tr>\n",
       "  </thead>\n",
       "  <tbody>\n",
       "    <tr>\n",
       "      <th>Male</th>\n",
       "      <td>652</td>\n",
       "      <td>84%</td>\n",
       "    </tr>\n",
       "    <tr>\n",
       "      <th>Female</th>\n",
       "      <td>113</td>\n",
       "      <td>14%</td>\n",
       "    </tr>\n",
       "    <tr>\n",
       "      <th>Other / Non-Disclosed</th>\n",
       "      <td>15</td>\n",
       "      <td>2%</td>\n",
       "    </tr>\n",
       "  </tbody>\n",
       "</table>\n",
       "</div>"
      ],
      "text/plain": [
       "                       Total Count Percentage of Players\n",
       "Male                           652                   84%\n",
       "Female                         113                   14%\n",
       "Other / Non-Disclosed           15                    2%"
      ]
     },
     "execution_count": 5,
     "metadata": {},
     "output_type": "execute_result"
    }
   ],
   "source": [
    "gender_demographics = {\n",
    "    'Total Count': [len(df.loc[df[\"Gender\"] == \"Male\"]), len(df.loc[df[\"Gender\"] == \"Female\"]), len(df.loc[df[\"Gender\"] == \"Other / Non-Disclosed\"])],\n",
    "    'Percentage of Players': [str(round(len(df.loc[df[\"Gender\"] == \"Male\"]) / int(len(df[\"Gender\"])) * 100)) + \"%\", str(round(len(df.loc[df[\"Gender\"] == \"Female\"]) / int(len(df[\"Gender\"])) * 100)) + \"%\", str(round(len(df.loc[df[\"Gender\"] == \"Other / Non-Disclosed\"]) / int(len(df[\"Gender\"])) * 100)) + \"%\",]\n",
    "}\n",
    "pd.DataFrame(gender_demographics).rename(index = {0: \"Male\", 1: \"Female\", 2: \"Other / Non-Disclosed\"})"
   ]
  },
  {
   "cell_type": "markdown",
   "metadata": {},
   "source": [
    "<h1>Purchasing Analysis (Gender)</h1>\n",
    "<ul>\n",
    "    <li>Run basic calculations to obtain purchase count, avg. purchase price, avg. purchase total per person etc. by gender</li>\n",
    "    <li>Create a summary data frame to hold the results</li>\n",
    "    <li>Optional: Give the data cleaner formatting</li>\n",
    "    <li>Display the summary data frame</li>\n",
    "</ul>"
   ]
  },
  {
   "cell_type": "code",
   "execution_count": 6,
   "metadata": {},
   "outputs": [
    {
     "data": {
      "text/html": [
       "<div>\n",
       "<style scoped>\n",
       "    .dataframe tbody tr th:only-of-type {\n",
       "        vertical-align: middle;\n",
       "    }\n",
       "\n",
       "    .dataframe tbody tr th {\n",
       "        vertical-align: top;\n",
       "    }\n",
       "\n",
       "    .dataframe thead th {\n",
       "        text-align: right;\n",
       "    }\n",
       "</style>\n",
       "<table border=\"1\" class=\"dataframe\">\n",
       "  <thead>\n",
       "    <tr style=\"text-align: right;\">\n",
       "      <th></th>\n",
       "      <th>Purchase Count</th>\n",
       "      <th>Average Purchase</th>\n",
       "      <th>Total Purchase Value</th>\n",
       "      <th>Average Total Purchase Per Person</th>\n",
       "    </tr>\n",
       "    <tr>\n",
       "      <th>Gender</th>\n",
       "      <th></th>\n",
       "      <th></th>\n",
       "      <th></th>\n",
       "      <th></th>\n",
       "    </tr>\n",
       "  </thead>\n",
       "  <tbody>\n",
       "    <tr>\n",
       "      <th>Male</th>\n",
       "      <td>652</td>\n",
       "      <td>$3.02</td>\n",
       "      <td>$1,967.64</td>\n",
       "      <td>$4.07</td>\n",
       "    </tr>\n",
       "    <tr>\n",
       "      <th>Female</th>\n",
       "      <td>113</td>\n",
       "      <td>$3.20</td>\n",
       "      <td>$361.94</td>\n",
       "      <td>$4.47</td>\n",
       "    </tr>\n",
       "    <tr>\n",
       "      <th>Other / Non-Disclosed</th>\n",
       "      <td>15</td>\n",
       "      <td>$3.35</td>\n",
       "      <td>$50.19</td>\n",
       "      <td>$4.56</td>\n",
       "    </tr>\n",
       "  </tbody>\n",
       "</table>\n",
       "</div>"
      ],
      "text/plain": [
       "                       Purchase Count Average Purchase Total Purchase Value  \\\n",
       "Gender                                                                        \n",
       "Male                              652            $3.02            $1,967.64   \n",
       "Female                            113            $3.20              $361.94   \n",
       "Other / Non-Disclosed              15            $3.35               $50.19   \n",
       "\n",
       "                      Average Total Purchase Per Person  \n",
       "Gender                                                   \n",
       "Male                                              $4.07  \n",
       "Female                                            $4.47  \n",
       "Other / Non-Disclosed                             $4.56  "
      ]
     },
     "execution_count": 6,
     "metadata": {},
     "output_type": "execute_result"
    }
   ],
   "source": [
    "gender_analysis = {\n",
    "    \"Gender\": [\"Male\", \"Female\", \"Other / Non-Disclosed\"],\n",
    "    \"Purchase Count\": [len(df[\"Gender\"].loc[df[\"Gender\"] == \"Male\"]), len(df[\"Gender\"].loc[df[\"Gender\"] == \"Female\"]),len(df[\"Gender\"].loc[df[\"Gender\"] == \"Other / Non-Disclosed\"])],\n",
    "    \"Average Purchase\": ['${:,.2f}'.format(df[\"Price\"].loc[df[\"Gender\"] == \"Male\"].sum() / len(df[\"SN\"].loc[df[\"Gender\"] == \"Male\"])), '${:,.2f}'.format(df[\"Price\"].loc[df[\"Gender\"] == \"Female\"].sum() / len(df[\"SN\"].loc[df[\"Gender\"] == \"Female\"])), '${:,.2f}'.format(df[\"Price\"].loc[df[\"Gender\"] == \"Other / Non-Disclosed\"].sum() / len(df[\"SN\"].loc[df[\"Gender\"] == \"Other / Non-Disclosed\"]))],\n",
    "    \"Total Purchase Value\": ['${:,.2f}'.format(df[\"Price\"].loc[df[\"Gender\"] == \"Male\"].sum()), '${:,.2f}'.format(df[\"Price\"].loc[df[\"Gender\"] == \"Female\"].sum()), '${:,.2f}'.format(df[\"Price\"].loc[df[\"Gender\"] == \"Other / Non-Disclosed\"].sum())],\n",
    "    \"Average Total Purchase Per Person\": ['${:,.2f}'.format(df[\"Price\"].loc[df[\"Gender\"] == \"Male\"].sum() / len(df[\"SN\"].loc[df[\"Gender\"] == \"Male\"].unique())), '${:,.2f}'.format(df[\"Price\"].loc[df[\"Gender\"] == \"Female\"].sum() / len(df[\"SN\"].loc[df[\"Gender\"] == \"Female\"].unique())), '${:,.2f}'.format(df[\"Price\"].loc[df[\"Gender\"] == \"Other / Non-Disclosed\"].sum() / len(df[\"SN\"].loc[df[\"Gender\"] == \"Other / Non-Disclosed\"].unique()))]\n",
    "}\n",
    "\n",
    "pd.DataFrame(gender_analysis).set_index(\"Gender\")"
   ]
  },
  {
   "cell_type": "markdown",
   "metadata": {},
   "source": [
    "## Age Demographics\n",
    "* Establish bins for ages\n",
    "* Categorize the existing players using the age bins. Hint: use pd.cut()\n",
    "* Calculate the numbers and percentages by age group\n",
    "* Create a summary data frame to hold the results\n",
    "* Optional: round the percentage column to two decimal points\n",
    "* Display Age Demographics Table\n"
   ]
  },
  {
   "cell_type": "code",
   "execution_count": 23,
   "metadata": {},
   "outputs": [],
   "source": [
    "bins = [0, 9, 14, 19, 24, 29, 34, 39, 100]\n",
    "bin_names = [\"<10\", \"10 - 14\", \"15 - 19\", \"20 - 24\", \"25 - 29\", \"30 - 34\", \"35 - 39\", \"40+\"]\n",
    "df[\"Age Group\"] = pd.cut(df['Age'], bins, labels = bin_names)\n",
    "age_demo_df = df.drop_duplicates(subset = \"SN\")"
   ]
  },
  {
   "cell_type": "code",
   "execution_count": 25,
   "metadata": {},
   "outputs": [
    {
     "data": {
      "text/html": [
       "<div>\n",
       "<style scoped>\n",
       "    .dataframe tbody tr th:only-of-type {\n",
       "        vertical-align: middle;\n",
       "    }\n",
       "\n",
       "    .dataframe tbody tr th {\n",
       "        vertical-align: top;\n",
       "    }\n",
       "\n",
       "    .dataframe thead th {\n",
       "        text-align: right;\n",
       "    }\n",
       "</style>\n",
       "<table border=\"1\" class=\"dataframe\">\n",
       "  <thead>\n",
       "    <tr style=\"text-align: right;\">\n",
       "      <th></th>\n",
       "      <th>Total Count</th>\n",
       "      <th>Percentage of Players</th>\n",
       "    </tr>\n",
       "  </thead>\n",
       "  <tbody>\n",
       "    <tr>\n",
       "      <th>&lt;10</th>\n",
       "      <td>17</td>\n",
       "      <td>2.95%</td>\n",
       "    </tr>\n",
       "    <tr>\n",
       "      <th>10 - 14</th>\n",
       "      <td>22</td>\n",
       "      <td>3.59%</td>\n",
       "    </tr>\n",
       "    <tr>\n",
       "      <th>15 - 19</th>\n",
       "      <td>107</td>\n",
       "      <td>17.44%</td>\n",
       "    </tr>\n",
       "    <tr>\n",
       "      <th>20 - 24</th>\n",
       "      <td>258</td>\n",
       "      <td>46.79%</td>\n",
       "    </tr>\n",
       "    <tr>\n",
       "      <th>25 - 29</th>\n",
       "      <td>77</td>\n",
       "      <td>12.95%</td>\n",
       "    </tr>\n",
       "    <tr>\n",
       "      <th>30 - 34</th>\n",
       "      <td>52</td>\n",
       "      <td>9.36%</td>\n",
       "    </tr>\n",
       "    <tr>\n",
       "      <th>35 - 39</th>\n",
       "      <td>31</td>\n",
       "      <td>5.26%</td>\n",
       "    </tr>\n",
       "    <tr>\n",
       "      <th>40+</th>\n",
       "      <td>12</td>\n",
       "      <td>1.67%</td>\n",
       "    </tr>\n",
       "  </tbody>\n",
       "</table>\n",
       "</div>"
      ],
      "text/plain": [
       "         Total Count Percentage of Players\n",
       "<10               17                 2.95%\n",
       "10 - 14           22                 3.59%\n",
       "15 - 19          107                17.44%\n",
       "20 - 24          258                46.79%\n",
       "25 - 29           77                12.95%\n",
       "30 - 34           52                 9.36%\n",
       "35 - 39           31                 5.26%\n",
       "40+               12                 1.67%"
      ]
     },
     "execution_count": 25,
     "metadata": {},
     "output_type": "execute_result"
    }
   ],
   "source": [
    "age_analysis = {\n",
    "    \"Total Count\": [len(age_demo_df[[\"SN\", \"Age\"]].loc[age_demo_df[\"Age Group\"] == bin_names[0]]), len(age_demo_df[[\"SN\", \"Age\"]].loc[age_demo_df[\"Age Group\"] == bin_names[1]]), len(age_demo_df[[\"SN\", \"Age\"]].loc[age_demo_df[\"Age Group\"] == bin_names[2]]), len(age_demo_df[[\"SN\", \"Age\"]].loc[age_demo_df[\"Age Group\"] == bin_names[3]]), len(age_demo_df[[\"SN\", \"Age\"]].loc[age_demo_df[\"Age Group\"] == bin_names[4]]), len(age_demo_df[[\"SN\", \"Age\"]].loc[age_demo_df[\"Age Group\"] == bin_names[5]]), len(age_demo_df[[\"SN\", \"Age\"]].loc[age_demo_df[\"Age Group\"] == bin_names[6]]), len(age_demo_df[[\"SN\", \"Age\"]].loc[age_demo_df[\"Age Group\"] == bin_names[7]])],\n",
    "    \"Percentage of Players\": [str(round((len(df[[\"SN\", \"Age\"]].loc[df[\"Age Group\"] == bin_names[0]]) / len(df[[\"SN\"]]) * 100), 2)) + \"%\", str(round((len(df[[\"SN\", \"Age\"]].loc[df[\"Age Group\"] == bin_names[1]]) / len(df[[\"SN\"]]) * 100), 2)) + \"%\", str(round((len(df[[\"SN\", \"Age\"]].loc[df[\"Age Group\"] == bin_names[2]]) / len(df[[\"SN\"]]) * 100), 2)) + \"%\", str(round((len(df[[\"SN\", \"Age\"]].loc[df[\"Age Group\"] == bin_names[3]]) / len(df[[\"SN\"]]) * 100), 2)) + \"%\", str(round((len(df[[\"SN\", \"Age\"]].loc[df[\"Age Group\"] == bin_names[4]]) / len(df[[\"SN\"]]) * 100), 2)) + \"%\", str(round((len(df[[\"SN\", \"Age\"]].loc[df[\"Age Group\"] == bin_names[5]]) / len(df[[\"SN\"]]) * 100), 2)) + \"%\", str(round((len(df[[\"SN\", \"Age\"]].loc[df[\"Age Group\"] == bin_names[6]]) / len(df[[\"SN\"]]) * 100), 2)) + \"%\", str(round((len(df[[\"SN\", \"Age\"]].loc[df[\"Age Group\"] == bin_names[7]]) / len(df[[\"SN\"]]) * 100), 2)) + \"%\"]\n",
    "}\n",
    "age_df = pd.DataFrame(age_analysis)\n",
    "age_df.index = bin_names\n",
    "age_df"
   ]
  },
  {
   "cell_type": "code",
   "execution_count": 40,
   "metadata": {},
   "outputs": [
    {
     "data": {
      "text/html": [
       "<div>\n",
       "<style scoped>\n",
       "    .dataframe tbody tr th:only-of-type {\n",
       "        vertical-align: middle;\n",
       "    }\n",
       "\n",
       "    .dataframe tbody tr th {\n",
       "        vertical-align: top;\n",
       "    }\n",
       "\n",
       "    .dataframe thead th {\n",
       "        text-align: right;\n",
       "    }\n",
       "</style>\n",
       "<table border=\"1\" class=\"dataframe\">\n",
       "  <thead>\n",
       "    <tr style=\"text-align: right;\">\n",
       "      <th></th>\n",
       "      <th>SN</th>\n",
       "      <th>Age</th>\n",
       "      <th>Gender</th>\n",
       "      <th>Item ID</th>\n",
       "      <th>Item Name</th>\n",
       "      <th>Price</th>\n",
       "      <th>Age Group</th>\n",
       "    </tr>\n",
       "    <tr>\n",
       "      <th>Purchase ID</th>\n",
       "      <th></th>\n",
       "      <th></th>\n",
       "      <th></th>\n",
       "      <th></th>\n",
       "      <th></th>\n",
       "      <th></th>\n",
       "      <th></th>\n",
       "    </tr>\n",
       "  </thead>\n",
       "  <tbody>\n",
       "    <tr>\n",
       "      <th>0</th>\n",
       "      <td>Lisim78</td>\n",
       "      <td>20</td>\n",
       "      <td>Male</td>\n",
       "      <td>108</td>\n",
       "      <td>Extraction, Quickblade Of Trembling Hands</td>\n",
       "      <td>3.53</td>\n",
       "      <td>20 - 24</td>\n",
       "    </tr>\n",
       "    <tr>\n",
       "      <th>1</th>\n",
       "      <td>Lisovynya38</td>\n",
       "      <td>40</td>\n",
       "      <td>Male</td>\n",
       "      <td>143</td>\n",
       "      <td>Frenzied Scimitar</td>\n",
       "      <td>1.56</td>\n",
       "      <td>40+</td>\n",
       "    </tr>\n",
       "    <tr>\n",
       "      <th>2</th>\n",
       "      <td>Ithergue48</td>\n",
       "      <td>24</td>\n",
       "      <td>Male</td>\n",
       "      <td>92</td>\n",
       "      <td>Final Critic</td>\n",
       "      <td>4.88</td>\n",
       "      <td>20 - 24</td>\n",
       "    </tr>\n",
       "    <tr>\n",
       "      <th>3</th>\n",
       "      <td>Chamassasya86</td>\n",
       "      <td>24</td>\n",
       "      <td>Male</td>\n",
       "      <td>100</td>\n",
       "      <td>Blindscythe</td>\n",
       "      <td>3.27</td>\n",
       "      <td>20 - 24</td>\n",
       "    </tr>\n",
       "    <tr>\n",
       "      <th>4</th>\n",
       "      <td>Iskosia90</td>\n",
       "      <td>23</td>\n",
       "      <td>Male</td>\n",
       "      <td>131</td>\n",
       "      <td>Fury</td>\n",
       "      <td>1.44</td>\n",
       "      <td>20 - 24</td>\n",
       "    </tr>\n",
       "  </tbody>\n",
       "</table>\n",
       "</div>"
      ],
      "text/plain": [
       "                        SN  Age Gender  Item ID  \\\n",
       "Purchase ID                                       \n",
       "0                  Lisim78   20   Male      108   \n",
       "1              Lisovynya38   40   Male      143   \n",
       "2               Ithergue48   24   Male       92   \n",
       "3            Chamassasya86   24   Male      100   \n",
       "4                Iskosia90   23   Male      131   \n",
       "\n",
       "                                             Item Name  Price Age Group  \n",
       "Purchase ID                                                              \n",
       "0            Extraction, Quickblade Of Trembling Hands   3.53   20 - 24  \n",
       "1                                    Frenzied Scimitar   1.56       40+  \n",
       "2                                         Final Critic   4.88   20 - 24  \n",
       "3                                          Blindscythe   3.27   20 - 24  \n",
       "4                                                 Fury   1.44   20 - 24  "
      ]
     },
     "execution_count": 40,
     "metadata": {},
     "output_type": "execute_result"
    }
   ],
   "source": [
    "df.head(5)"
   ]
  },
  {
   "cell_type": "code",
   "execution_count": null,
   "metadata": {},
   "outputs": [],
   "source": []
  }
 ],
 "metadata": {
  "kernelspec": {
   "display_name": "pandas-challenge",
   "language": "python",
   "name": "pandas-challenge"
  },
  "language_info": {
   "codemirror_mode": {
    "name": "ipython",
    "version": 3
   },
   "file_extension": ".py",
   "mimetype": "text/x-python",
   "name": "python",
   "nbconvert_exporter": "python",
   "pygments_lexer": "ipython3",
   "version": "3.7.4"
  }
 },
 "nbformat": 4,
 "nbformat_minor": 4
}
